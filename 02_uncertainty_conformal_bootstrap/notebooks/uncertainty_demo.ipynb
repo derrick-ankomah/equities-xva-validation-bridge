{
 "cells": [
  {
   "cell_type": "markdown",
   "id": "d7f09f1e",
   "metadata": {},
   "source": [
    "# Uncertainty demo (Conformal + Bootstrap)"
   ]
  },
  {
   "cell_type": "code",
   "execution_count": null,
   "id": "740fba9c",
   "metadata": {},
   "outputs": [],
   "source": [
    "import runpy, pathlib\n",
    "root = pathlib.Path(__file__).resolve().parents[2]\n",
    "runpy.run_path(str(root/'02_uncertainty_conformal_bootstrap/python/run_uncertainty.py'))\n",
    "print('Done. See reports/uncertainty/')"
   ]
  }
 ],
 "metadata": {},
 "nbformat": 4,
 "nbformat_minor": 5
}
