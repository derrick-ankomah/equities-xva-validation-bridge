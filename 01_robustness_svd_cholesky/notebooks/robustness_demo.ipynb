{
 "cells": [
  {
   "cell_type": "markdown",
   "id": "0b0b5897",
   "metadata": {},
   "source": [
    "# Robustness demo (SVD & Cholesky)"
   ]
  },
  {
   "cell_type": "code",
   "execution_count": null,
   "id": "de2c820b",
   "metadata": {},
   "outputs": [],
   "source": [
    "import runpy, pathlib\n",
    "root = pathlib.Path(__file__).resolve().parents[2]\n",
    "runpy.run_path(str(root/'01_robustness_svd_cholesky/python/run_robustness.py'))\n",
    "print('Done. See reports/robustness/')"
   ]
  }
 ],
 "metadata": {},
 "nbformat": 4,
 "nbformat_minor": 5
}
